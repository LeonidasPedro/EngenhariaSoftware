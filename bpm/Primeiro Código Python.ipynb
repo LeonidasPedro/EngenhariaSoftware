{
 "cells": [
  {
   "cell_type": "code",
   "execution_count": 1,
   "id": "b1e760cd",
   "metadata": {},
   "outputs": [
    {
     "name": "stdout",
     "output_type": "stream",
     "text": [
      "Requirement already satisfied: pandas in /home/leonidas/anaconda3/lib/python3.9/site-packages (1.4.4)\n",
      "Requirement already satisfied: python-dateutil>=2.8.1 in /home/leonidas/anaconda3/lib/python3.9/site-packages (from pandas) (2.8.2)\n",
      "Requirement already satisfied: pytz>=2020.1 in /home/leonidas/anaconda3/lib/python3.9/site-packages (from pandas) (2022.1)\n",
      "Requirement already satisfied: numpy>=1.18.5 in /home/leonidas/anaconda3/lib/python3.9/site-packages (from pandas) (1.21.5)\n",
      "Requirement already satisfied: six>=1.5 in /home/leonidas/anaconda3/lib/python3.9/site-packages (from python-dateutil>=2.8.1->pandas) (1.16.0)\n"
     ]
    }
   ],
   "source": [
    "!pip3 install \n",
    "# ###########################################################################################################################\n",
    "# # Comentários sobre o código\n",
    "# # ...\n",
    "# print(\"Automatização do Processo de Pedido de Produtos - Bebidas em Caixas\")\n",
    "# import time\n",
    "# import pyautogui\n",
    "# import pyperclip\n",
    "#                                  # O Python usando teclado - 1 - Abrir o navegador Chrome\n",
    "# pyautogui.PAUSE=2                # Pausa por 2 segundos a cada comando - Tempo para sincronizar cada linha de execução\n",
    "# #pyautogui.alert(\"Enquanto executa, não interaja com o teclado e mouse!\")\n",
    "# pyautogui.press(\"winleft\")       # Abre o menu iniciar do windows"
   ]
  },
  {
   "cell_type": "code",
   "execution_count": null,
   "id": "fc4ce1e6",
   "metadata": {},
   "outputs": [],
   "source": []
  }
 ],
 "metadata": {
  "kernelspec": {
   "display_name": "Python 3 (ipykernel)",
   "language": "python",
   "name": "python3"
  },
  "language_info": {
   "codemirror_mode": {
    "name": "ipython",
    "version": 3
   },
   "file_extension": ".py",
   "mimetype": "text/x-python",
   "name": "python",
   "nbconvert_exporter": "python",
   "pygments_lexer": "ipython3",
   "version": "3.9.13"
  }
 },
 "nbformat": 4,
 "nbformat_minor": 5
}
